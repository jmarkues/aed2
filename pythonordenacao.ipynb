{
  "cells": [
    {
      "cell_type": "code",
      "execution_count": null,
      "metadata": {
        "colab": {
          "base_uri": "https://localhost:8080/"
        },
        "id": "D5KDpl_Xk1NQ",
        "outputId": "23fae36e-4ead-4b93-aa13-4705b93eafdf"
      },
      "outputs": [
        {
          "name": "stdout",
          "output_type": "stream",
          "text": [
            "Gerando dicionário com 10 entradas...\n",
            "Tempo de ordenação: 0.0003 segundos\n",
            "Memória usada: 1.24 KB\n",
            "Pico de memória: 11.98 KB\n"
          ]
        }
      ],
      "source": [
        "import random\n",
        "import string\n",
        "import time\n",
        "import tracemalloc\n",
        "\n",
        "def gerar_dicionario(tamanho):\n",
        "    dicionario = {}\n",
        "    for _ in range(tamanho):\n",
        "        chave = ''.join(random.choices(string.ascii_letters + string.digits, k=8))\n",
        "        valor = random.randint(1, 1000000)\n",
        "        dicionario[chave] = valor\n",
        "    return dicionario\n",
        "\n",
        "tamanho = 10\n",
        "\n",
        "print(f\"Gerando dicionário com {tamanho} entradas...\")\n",
        "\n",
        "d = gerar_dicionario(tamanho)\n",
        "\n",
        "tracemalloc.start()\n",
        "\n",
        "inicio = time.perf_counter()\n",
        "\n",
        "d_ordenado = dict(sorted(d.items()))\n",
        "\n",
        "fim = time.perf_counter()\n",
        "\n",
        "memoria_atual, pico_memoria = tracemalloc.get_traced_memory()\n",
        "tracemalloc.stop()\n",
        "\n",
        "print(f\"Tempo de ordenação: {fim - inicio:.4f} segundos\")\n",
        "print(f\"Memória usada: {memoria_atual / 1024:.2f} KB\")\n",
        "print(f\"Pico de memória: {pico_memoria / 1024:.2f} KB\")\n",
        "\n"
      ]
    },
    {
      "cell_type": "code",
      "execution_count": null,
      "metadata": {
        "colab": {
          "background_save": true,
          "base_uri": "https://localhost:8080/"
        },
        "id": "o75WaowAejrO",
        "outputId": "67594bc2-fa5b-4573-f3af-0820ac592202"
      },
      "outputs": [
        {
          "name": "stdout",
          "output_type": "stream",
          "text": [
            "Gerando dicionário com 10000000 entradas...\n"
          ]
        }
      ],
      "source": [
        "import random\n",
        "import time\n",
        "import tracemalloc\n",
        "\n",
        "def gerar_dicionario(tamanho):\n",
        "    dicionario = {}\n",
        "    while len(dicionario) < tamanho:\n",
        "        chave = random.randint(1, 1_000_000)\n",
        "        valor = random.randint(1, 1_000_000)\n",
        "        dicionario[chave] = valor\n",
        "    return dicionario\n",
        "\n",
        "tamanho = 10000000\n",
        "\n",
        "print(f\"Gerando dicionário com {tamanho} entradas...\")\n",
        "\n",
        "d = gerar_dicionario(tamanho)\n",
        "\n",
        "tracemalloc.start()\n",
        "\n",
        "inicio = time.perf_counter()\n",
        "\n",
        "d_ordenado = dict(sorted(d.items()))\n",
        "\n",
        "fim = time.perf_counter()\n",
        "\n",
        "memoria_atual, pico_memoria = tracemalloc.get_traced_memory()\n",
        "tracemalloc.stop()\n",
        "\n",
        "print(f\"Tempo de ordenação: {fim - inicio:.4f} segundos\")\n",
        "print(f\"Memória usada: {memoria_atual / 1024:.2f} KB\")\n",
        "print(f\"Pico de memória: {pico_memoria / 1024:.2f} KB\")\n"
      ]
    }
  ],
  "metadata": {
    "colab": {
      "provenance": [],
      "authorship_tag": "ABX9TyMsZqX5Ruls0hRN7yrfjBw3"
    },
    "kernelspec": {
      "display_name": "Python 3",
      "name": "python3"
    },
    "language_info": {
      "name": "python"
    }
  },
  "nbformat": 4,
  "nbformat_minor": 0
}